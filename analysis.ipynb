{
 "cells": [
  {
   "cell_type": "code",
   "execution_count": null,
   "id": "d40c9851",
   "metadata": {},
   "outputs": [],
   "source": [
    "import os, copy, pickle, torch, torchvision, types\n",
    "import types\n",
    "from torch import Tensor\n",
    "import torch.nn as nn\n",
    "import matplotlib.pyplot as plt\n",
    "import torch.nn.functional as F\n",
    "from torch.utils.data import Dataset, DataLoader, Subset, random_split\n",
    "\n",
    "import numpy as np\n",
    "from tqdm import tqdm\n",
    "\n",
    "from utils import AverageMeter, accuracy, save_checkpoint, plot_train_progress\n",
    "from loss import LossComputer\n",
    "\n",
    "from data.dro_dataset import get_loader"
   ]
  },
  {
   "cell_type": "code",
   "execution_count": null,
   "id": "19d027a4",
   "metadata": {},
   "outputs": [],
   "source": [
    "# from IPython.display import display, HTML\n",
    "# display(HTML(\"<style>.container { width:100% !important; }</style>\"))"
   ]
  },
  {
   "cell_type": "code",
   "execution_count": null,
   "id": "6f8ac8da",
   "metadata": {},
   "outputs": [],
   "source": [
    "class FeatResNet(nn.Module):\n",
    "    \n",
    "    def __init__(self, core_resnet, level):\n",
    "        super(FeatResNet, self).__init__()\n",
    "        self.internal = core_resnet\n",
    "        self.level = level\n",
    "    \n",
    "    def forward(self, x: Tensor) -> Tensor:\n",
    "        x = self.internal.conv1(x)\n",
    "        x = self.internal.bn1(x)\n",
    "        x = self.internal.relu(x)\n",
    "        x = self.internal.maxpool(x)\n",
    "\n",
    "        x = self.internal.layer1(x)\n",
    "        if self.level == 1: return x\n",
    "        \n",
    "        x = self.internal.layer2(x)\n",
    "        if self.level == 2: return x\n",
    "        \n",
    "        x = self.internal.layer3(x)\n",
    "        if self.level == 3: return x\n",
    "        \n",
    "        x = self.internal.layer4(x)\n",
    "        if self.level == 4: return x\n",
    "\n",
    "        x = self.internal.avgpool(x)\n",
    "        x = torch.flatten(x, 1)\n",
    "        ft = x\n",
    "        x = self.internal.fc(x)\n",
    "\n",
    "        return x\n",
    "\n",
    "class Projector(nn.Module):\n",
    "    def __init__(self, d):\n",
    "        super(Projector, self).__init__()\n",
    "        self.fc = nn.Linear(d, 2)\n",
    "\n",
    "    def forward(self, x):\n",
    "        x = torch.flatten(nn.AdaptiveAvgPool2d((1, 1))(x), 1)\n",
    "        x = self.fc(x)\n",
    "        return x"
   ]
  },
  {
   "cell_type": "code",
   "execution_count": null,
   "id": "12be092a",
   "metadata": {},
   "outputs": [],
   "source": [
    "# train\n",
    "def train(model, projector, optimizer, train_loader, num_epochs=8):\n",
    "    criterion = torch.nn.CrossEntropyLoss(reduction='none')\n",
    "    model.eval()\n",
    "    projector.train()\n",
    "    for epoch in range(num_epochs):\n",
    "#         print(epoch)\n",
    "        for batch_idx, batch in enumerate(train_loader):\n",
    "            x = batch[0].to(device='cuda')\n",
    "            y = batch[1].to(device='cuda')\n",
    "            yhat = projector(model(x))\n",
    "            loss = criterion(yhat, y).mean()\n",
    "            optimizer.zero_grad()\n",
    "            loss.backward()\n",
    "            optimizer.step()\n",
    "\n",
    "def infer(model, projector, test_loader, widx=2):\n",
    "    model.eval()\n",
    "    projector.eval()\n",
    "    \n",
    "    pred_probs_list = []\n",
    "    correct_pred_list = []\n",
    "    worst_collect_list = []\n",
    "    \n",
    "    with torch.no_grad():\n",
    "        for batch_idx, batch in enumerate(test_loader):\n",
    "            x = batch[0].to(device='cuda')\n",
    "            y = batch[1]\n",
    "            g = batch[2]\n",
    "            yhat = torch.softmax(projector(model(x)), dim=1).to(device='cpu')\n",
    "            top_preds = torch.argmax(yhat, dim=1)\n",
    "            correct = top_preds == y\n",
    "            worst_flag = g == widx\n",
    "            \n",
    "            pred_probs_list.append(yhat)\n",
    "            correct_pred_list.append(correct)\n",
    "            worst_collect_list.append(worst_flag)\n",
    "    \n",
    "    pred_probs = torch.cat(pred_probs_list, dim=0)\n",
    "    correct_preds = torch.cat(correct_pred_list, dim=0)\n",
    "    worst_collect = torch.cat(worst_collect_list, dim=0)\n",
    "    return pred_probs, correct_preds, worst_collect"
   ]
  },
  {
   "cell_type": "code",
   "execution_count": null,
   "id": "cf9a3c0f",
   "metadata": {},
   "outputs": [],
   "source": []
  },
  {
   "cell_type": "code",
   "execution_count": 13,
   "id": "12074887",
   "metadata": {},
   "outputs": [],
   "source": [
    "def get_margin_hist(dataset, epoch, feature_level):\n",
    "    \n",
    "    if dataset == 'CelebA': \n",
    "        learning_rate = 1e-4\n",
    "        widx = 3\n",
    "        epochs = 1\n",
    "        pkl_name = 'Blond_Hair_Male_dataset_0.pkl'\n",
    "    else: # could be named waterbirds\n",
    "        dataset = 'CUB'\n",
    "        learning_rate = 1e-3\n",
    "        widx = 2\n",
    "        epochs = 0 # change\n",
    "        pkl_name = 'waterbird_complete95_forest2water2_dataset_0.pkl'\n",
    "    \n",
    "    loader_kwargs = {'batch_size':10, 'num_workers':4, 'pin_memory':True}\n",
    "    with open(os.path.join('results', dataset, pkl_name), 'rb') as file:\n",
    "        data = pickle.load(file)\n",
    "        train_data = data['train_data']\n",
    "        train_loader = get_loader(train_data, train=True, **loader_kwargs)\n",
    "    loader_kwargs = {'batch_size':128, 'num_workers':4, 'pin_memory':True}\n",
    "    n = len(train_data)\n",
    "    train_data, test_data = random_split(train_data, [n//2, n-n//2])\n",
    "    train_loader, test_loader = get_loader(train_data, train=True, **loader_kwargs), get_loader(test_data, train=False, **loader_kwargs)\n",
    "    \n",
    "    model = torchvision.models.resnet18().to(device='cuda')\n",
    "    d = model.fc.in_features\n",
    "    model.fc = nn.Linear(d, 2).to(device='cuda')\n",
    "    model_ckpt = torch.load(os.path.join(f'./results/{dataset}/resnet18-pt_0/', f'{epoch}_ckpt.pth.tar'))\n",
    "    model.load_state_dict(model_ckpt['model'])\n",
    "    model.eval()\n",
    "    model = FeatResNet(model, feature_level)\n",
    "    samples = next(iter(train_loader))\n",
    "    sample_inputs = samples[0].to(device='cuda')\n",
    "    features = model(sample_inputs)\n",
    "    d = torch.flatten(nn.AdaptiveAvgPool2d((1, 1))(features), 1).shape[1]\n",
    "    projector = Projector(d).to(device='cuda')\n",
    "    projector.train()\n",
    "    \n",
    "    optimizer = torch.optim.SGD(filter(lambda p: p.requires_grad, projector.parameters()), \n",
    "                                lr=learning_rate, momentum=0.9, weight_decay=5e-4)\n",
    "    train(model, projector, optimizer, train_loader, num_epochs=epochs)\n",
    "\n",
    "    yhat, correct, worst = infer(model, projector, test_loader, widx=widx)\n",
    "    confident = torch.abs(yhat[:, 0] - yhat[:, 1])\n",
    "    \n",
    "    num_bins = 20\n",
    "\n",
    "    # Separate rows based on conditions\n",
    "    rows_tt = (correct == True) & (worst == True)\n",
    "    rows_tf = (correct == True) & (worst == False)\n",
    "    rows_ff = (correct == False) & (worst == False)\n",
    "    rows_ft = (correct == False) & (worst == True)\n",
    "\n",
    "    # Create histograms for each group of rows based on the value of confident\n",
    "    hist_tt, edges_tt = np.histogram(confident[rows_tt], bins=num_bins, range=(0, 1))\n",
    "    hist_tf, edges_tf = np.histogram(confident[rows_tf], bins=num_bins, range=(0, 1))\n",
    "    hist_ff, edges_ff = np.histogram(confident[rows_ff], bins=num_bins, range=(0, 1))\n",
    "    hist_ft, edges_ft = np.histogram(confident[rows_ft], bins=num_bins, range=(0, 1))\n",
    "\n",
    "    # Create a 1x4 subplot for the four histograms\n",
    "    fig, axs = plt.subplots(1, 4, figsize=(15, 5))\n",
    "\n",
    "    # Plot the histograms\n",
    "    axs[0].hist(confident[rows_tt], bins=edges_tt, color='blue', alpha=0.7)\n",
    "    axs[0].set_title('Pred=right, worst=yes')\n",
    "    axs[1].hist(confident[rows_tf], bins=edges_tf, color='green', alpha=0.7)\n",
    "    axs[1].set_title('Pred=right, worst=no')\n",
    "    axs[2].hist(confident[rows_ff], bins=edges_ff, color='red', alpha=0.7)\n",
    "    axs[2].set_title('Pred=wrong, worst=no')\n",
    "    axs[3].hist(confident[rows_ft], bins=edges_ft, color='purple', alpha=0.7)\n",
    "    axs[3].set_title('Pred=wrong, worst=yes')\n",
    "\n",
    "    # Adjust layout and show the plot\n",
    "    plt.tight_layout()\n",
    "    plt.show()\n"
   ]
  },
  {
   "cell_type": "code",
   "execution_count": 14,
   "id": "5b425810",
   "metadata": {},
   "outputs": [
    {
     "data": {
      "image/png": "[encoded data removed]",
      "text/plain": [
       "<Figure size 1500x500 with 4 Axes>"
      ]
     },
     "metadata": {},
     "output_type": "display_data"
    }
   ],
   "source": [
    "get_margin_hist('CUB', 60, 1)"
   ]
  },
  {
   "cell_type": "code",
   "execution_count": null,
   "id": "36d45ecd",
   "metadata": {},
   "outputs": [],
   "source": [
    "get_margin_hist('CelebA', 60, 1)"
   ]
  },
  {
   "cell_type": "code",
   "execution_count": null,
   "id": "9d259a90",
   "metadata": {},
   "outputs": [],
   "source": [
    "get_margin_hist(60, 1)"
   ]
  },
  {
   "cell_type": "code",
   "execution_count": null,
   "id": "9877c5d0",
   "metadata": {},
   "outputs": [],
   "source": [
    "get_margin_hist(60, 2)"
   ]
  },
  {
   "cell_type": "code",
   "execution_count": null,
   "id": "e4a8a09b",
   "metadata": {},
   "outputs": [],
   "source": [
    "get_margin_hist(60, 3)"
   ]
  },
  {
   "cell_type": "code",
   "execution_count": null,
   "id": "ab462f97",
   "metadata": {},
   "outputs": [],
   "source": [
    "get_margin_hist(60, 4)"
   ]
  },
  {
   "cell_type": "code",
   "execution_count": null,
   "id": "f63547f0",
   "metadata": {},
   "outputs": [],
   "source": [
    "get_margin_hist(30, 1)"
   ]
  },
  {
   "cell_type": "code",
   "execution_count": null,
   "id": "b7e63f30",
   "metadata": {},
   "outputs": [],
   "source": [
    "get_margin_hist(147, 2)"
   ]
  },
  {
   "cell_type": "code",
   "execution_count": null,
   "id": "26c41245",
   "metadata": {},
   "outputs": [],
   "source": [
    "def calculate_tpr_fpr(output, target):\n",
    "    tp = torch.sum(output & target).item()\n",
    "    fp = torch.sum(output & ~target).item()\n",
    "    fn = torch.sum(~output & target).item()\n",
    "    tn = torch.sum(~output & ~target).item()\n",
    "    tpr = tp / (tp + fn)\n",
    "    fpr = fp / (fp + tn)\n",
    "    acc = (tp+tn)/(tp+fn+fp+tn)\n",
    "    return tpr, fpr, acc\n",
    "\n",
    "def get_stats(epoch, feature_level, threshold=0.4):\n",
    "\n",
    "    model = torchvision.models.resnet18().to(device='cuda')\n",
    "    d = model.fc.in_features\n",
    "    model.fc = nn.Linear(d, 2).to(device='cuda')\n",
    "    model_ckpt = torch.load(os.path.join('./results/CUB/resnet18-pt_0/', f'{epoch}_ckpt.pth.tar'))\n",
    "    model.load_state_dict(model_ckpt['model'])\n",
    "    model.eval()\n",
    "    model = FeatResNet(model, feature_level)\n",
    "    \n",
    "    samples = next(iter(train_loader))\n",
    "    sample_inputs = samples[0].to(device='cuda')\n",
    "    features = model(sample_inputs)\n",
    "    d = torch.flatten(nn.AdaptiveAvgPool2d((1, 1))(features), 1).shape[1]\n",
    "    projector = Projector(d).to(device='cuda')\n",
    "    projector.train()\n",
    "    \n",
    "    optimizer = torch.optim.SGD(filter(lambda p: p.requires_grad, projector.parameters()), \n",
    "                                lr=3e-4, momentum=0.9, weight_decay=5e-4)\n",
    "    \n",
    "    train(model, projector, optimizer, train_loader, num_epochs=8)\n",
    "    yhat, correct, worst = infer(model, projector, test_loader)\n",
    "    \n",
    "    confident = torch.abs(yhat[:, 0] - yhat[:, 1]) > threshold\n",
    "    worst_group_preds = (correct & False) | (~correct & confident)\n",
    "    return calculate_tpr_fpr(worst_group_preds, worst)\n",
    "    \n",
    "def plot_tpr_fpr(feature_level, threshold=0.4, num_epochs=10):\n",
    "    tprs, fprs, accs = [], [], []\n",
    "    epoch_list = [3*x for x in range(num_epochs)]\n",
    "    for x in tqdm(range(num_epochs)):\n",
    "        epoch = x*3\n",
    "        tpr, fpr, acc = get_stats(epoch, feature_level, threshold)\n",
    "        tprs.append(tpr)\n",
    "        fprs.append(fpr)\n",
    "        accs.append(acc)\n",
    "    fig, ax = plt.subplots(1, 3, figsize=(15, 4))\n",
    "    \n",
    "    ax[0].plot(epoch_list, tprs)\n",
    "    ax[0].set_title(\"TPR\")\n",
    "    ax[0].set_xlabel(\"epoch\")\n",
    "    ax[0].set_ylabel(\"TPR\")\n",
    "    \n",
    "    ax[1].plot(epoch_list, fprs)\n",
    "    ax[1].set_title(\"FPR\")\n",
    "    ax[1].set_xlabel(\"epoch\")\n",
    "    ax[1].set_ylabel(\"FPR\")\n",
    "\n",
    "    ax[2].plot(epoch_list, accs)\n",
    "    ax[2].set_title(\"Accuracy\")\n",
    "    ax[2].set_xlabel(\"epoch\")\n",
    "    ax[2].set_ylabel(\"Acc\")\n",
    "    \n",
    "    plt.tight_layout()\n",
    "    plt.show()\n",
    "    \n",
    "    \n",
    "    "
   ]
  },
  {
   "cell_type": "code",
   "execution_count": null,
   "id": "31ece228",
   "metadata": {},
   "outputs": [],
   "source": [
    "plot_tpr_fpr(3, 0.6, 20)"
   ]
  },
  {
   "cell_type": "code",
   "execution_count": null,
   "id": "b6b83304",
   "metadata": {},
   "outputs": [],
   "source": [
    "plot_tpr_fpr(4, 0.6, 20)"
   ]
  },
  {
   "cell_type": "code",
   "execution_count": null,
   "id": "0cafede2",
   "metadata": {},
   "outputs": [],
   "source": [
    "plot_tpr_fpr(2, 0.6, 40)"
   ]
  }
 ],
 "metadata": {
  "kernelspec": {
   "display_name": "Python 3 (ipykernel)",
   "language": "python",
   "name": "python3"
  },
  "language_info": {
   "codemirror_mode": {
    "name": "ipython",
    "version": 3
   },
   "file_extension": ".py",
   "mimetype": "text/x-python",
   "name": "python",
   "nbconvert_exporter": "python",
   "pygments_lexer": "ipython3",
   "version": "3.7.12"
  }
 },
 "nbformat": 4,
 "nbformat_minor": 5
}
